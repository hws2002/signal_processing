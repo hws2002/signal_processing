{
 "cells": [
  {
   "cell_type": "code",
   "execution_count": null,
   "id": "1d467535",
   "metadata": {},
   "outputs": [],
   "source": [
    "    y = np.zeros(1000, dtype = float)\n"
   ]
  }
 ],
 "metadata": {
  "kernelspec": {
   "display_name": "ann",
   "language": "python",
   "name": "python3"
  },
  "language_info": {
   "name": "python",
   "version": "3.11.13"
  }
 },
 "nbformat": 4,
 "nbformat_minor": 5
}
